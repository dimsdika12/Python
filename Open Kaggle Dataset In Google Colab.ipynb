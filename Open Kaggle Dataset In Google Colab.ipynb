{
  "nbformat": 4,
  "nbformat_minor": 0,
  "metadata": {
    "colab": {
      "name": "Untitled",
      "provenance": [],
      "collapsed_sections": []
    },
    "kernelspec": {
      "name": "python3",
      "display_name": "Python 3"
    },
    "language_info": {
      "name": "python"
    }
  },
  "cells": [
    {
      "cell_type": "markdown",
      "source": [
        "\n",
        "\n",
        "1.   Buka akun kaggle\n",
        "2.   Create New API Token\n",
        "3.   Buat folder di gdrive ‘Kaggle’, unggah file kaggle.json\n",
        "\n",
        "\n",
        "\n",
        "\n",
        "\n"
      ],
      "metadata": {
        "id": "jOrO3T-YAvJy"
      }
    },
    {
      "cell_type": "code",
      "execution_count": 9,
      "metadata": {
        "colab": {
          "base_uri": "https://localhost:8080/"
        },
        "id": "mO_RUt9y9CJv",
        "outputId": "f9131d66-7802-4f15-95fb-31f04b7ad658"
      },
      "outputs": [
        {
          "output_type": "stream",
          "name": "stdout",
          "text": [
            "Drive already mounted at /content/gdrive; to attempt to forcibly remount, call drive.mount(\"/content/gdrive\", force_remount=True).\n"
          ]
        }
      ],
      "source": [
        "from google.colab import drive\n",
        "drive.mount('/content/gdrive')"
      ]
    },
    {
      "cell_type": "code",
      "source": [
        "import os\n",
        "os.environ['KAGGLE_CONFIG_DIR']='/content/gdrive/My Drive/Kaggle'"
      ],
      "metadata": {
        "id": "jzOoAcuj-xKK"
      },
      "execution_count": 10,
      "outputs": []
    },
    {
      "cell_type": "markdown",
      "source": [
        "Copy API dataset yang diingkan"
      ],
      "metadata": {
        "id": "gvlanuagBxGs"
      }
    },
    {
      "cell_type": "code",
      "source": [
        "!kaggle datasets download -d rhuebner/human-resources-data-set\n",
        "!ls"
      ],
      "metadata": {
        "colab": {
          "base_uri": "https://localhost:8080/"
        },
        "id": "tsCDMBHo_ZLD",
        "outputId": "dce414d7-d17c-4864-a3e6-b3b86bc6c063"
      },
      "execution_count": 11,
      "outputs": [
        {
          "output_type": "stream",
          "name": "stdout",
          "text": [
            "human-resources-data-set.zip: Skipping, found more recently modified local copy (use --force to force download)\n",
            "gdrive\thuman-resources-data-set.zip  sample_data\n"
          ]
        }
      ]
    },
    {
      "cell_type": "code",
      "source": [
        "import pandas as pd\n",
        "df = pd.read_csv(\"/content/human-resources-data-set.zip\")\n",
        "print(df.sample(5))"
      ],
      "metadata": {
        "colab": {
          "base_uri": "https://localhost:8080/"
        },
        "id": "B002Bq79AG_t",
        "outputId": "45b76c58-4611-4a63-e0a3-7d87d1294265"
      },
      "execution_count": 12,
      "outputs": [
        {
          "output_type": "stream",
          "name": "stdout",
          "text": [
            "          Employee_Name  EmpID  MarriedID  MaritalStatusID  GenderID  \\\n",
            "218  Peterson, Ebonee    10130          1                1         0   \n",
            "283          Trang, Mei  10287          0                0         0   \n",
            "44    Chang, Donovan  E  10154          0                0         1   \n",
            "19        Becker, Scott  10277          0                0         1   \n",
            "211      Panjwani, Nina  10148          1                1         0   \n",
            "\n",
            "     EmpStatusID  DeptID  PerfScoreID  FromDiversityJobFairID  Salary  ...  \\\n",
            "218            5       5            3                       0   74669  ...   \n",
            "283            1       5            2                       0   63025  ...   \n",
            "44             1       5            3                       0   60380  ...   \n",
            "19             3       5            3                       0   53250  ...   \n",
            "211            5       5            3                       0   63515  ...   \n",
            "\n",
            "        ManagerName  ManagerID RecruitmentSource   PerformanceScore  \\\n",
            "218      Janet King        2.0            Indeed        Fully Meets   \n",
            "283   David Stanley       14.0          LinkedIn  Needs Improvement   \n",
            "44   Webster Butler        NaN          LinkedIn        Fully Meets   \n",
            "19   Webster Butler        NaN          LinkedIn        Fully Meets   \n",
            "211    Elijiah Gray       16.0     Google Search        Fully Meets   \n",
            "\n",
            "     EngagementSurvey EmpSatisfaction SpecialProjectsCount  \\\n",
            "218              4.16               5                    0   \n",
            "283              2.44               5                    0   \n",
            "44               3.80               5                    0   \n",
            "19               4.20               4                    0   \n",
            "211              3.89               4                    0   \n",
            "\n",
            "    LastPerformanceReview_Date DaysLateLast30 Absences  \n",
            "218                   3/5/2015              0        6  \n",
            "283                  2/11/2019              4       18  \n",
            "44                   1/14/2019              0        4  \n",
            "19                   1/11/2019              0       13  \n",
            "211                   3/4/2013              0        7  \n",
            "\n",
            "[5 rows x 36 columns]\n"
          ]
        }
      ]
    }
  ]
}